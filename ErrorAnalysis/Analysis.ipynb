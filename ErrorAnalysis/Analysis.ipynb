{
 "cells": [
  {
   "cell_type": "code",
   "execution_count": 124,
   "id": "54557e63",
   "metadata": {},
   "outputs": [
    {
     "name": "stderr",
     "output_type": "stream",
     "text": [
      "\u001b[36m\u001b[1m[ \u001b[22m\u001b[39m\u001b[36m\u001b[1mInfo: \u001b[22m\u001b[39mPrecompiling RCall [6f49c342-dc21-5d91-9882-a32aef131414]\n"
     ]
    }
   ],
   "source": [
    "using JLD\n",
    "using Statistics\n",
    "using Distributions\n",
    "using HypothesisTests\n",
    "using FuzzyClusteringSimilarity"
   ]
  },
  {
   "cell_type": "code",
   "execution_count": 79,
   "id": "c7dec9d3",
   "metadata": {},
   "outputs": [
    {
     "data": {
      "text/plain": [
       "135×100 Matrix{Float64}:\n",
       " 8.75858e-6   3.8832e-5    0.000114843  …  0.000853314  8.43737e-5\n",
       " 7.06577e-5   0.000152804  0.000513902     0.000398821  3.51612e-5\n",
       " 0.00080299   0.000172414  5.97475e-5      0.000303503  2.08038e-5\n",
       " 0.000229889  7.39754e-5   0.000990611     0.000249623  0.000368271\n",
       " 0.000709494  0.000775577  8.30588e-5      0.000610036  0.000156073\n",
       " 4.50008e-5   0.000380675  0.000563521  …  7.45643e-5   0.000797942\n",
       " 0.000161843  0.000282659  0.000634726     0.000263511  0.000820961\n",
       " 0.000517992  0.000827338  0.000652818     0.000386253  0.000395717\n",
       " 0.000567389  0.000561509  0.000245669     0.000102307  0.00015699\n",
       " 0.000149214  0.000109124  7.42929e-5      0.000402913  0.00032814\n",
       " 0.000219371  0.000361839  0.000391971  …  0.000248356  1.6493e-5\n",
       " 0.000163777  0.00111924   0.000213838     9.62494e-5   0.000931808\n",
       " 0.000302748  1.5837e-5    0.00103882      0.000177533  0.000151862\n",
       " ⋮                                      ⋱               \n",
       " 0.00105296   0.000332806  0.000186151     0.0016369    0.00092539\n",
       " 0.000168563  0.00020232   0.000191314     0.000341228  0.000352712\n",
       " 0.00045639   0.000811178  0.000566795  …  0.000507785  0.000132174\n",
       " 0.000385823  0.000444134  0.000368173     6.5119e-5    0.000376419\n",
       " 8.37592e-5   0.000663268  0.000163219     0.000406157  0.000255265\n",
       " 0.000239567  0.00013436   4.98939e-6      0.00055362   0.00070582\n",
       " 0.00129515   0.000136813  0.000253117     0.000505871  0.000913284\n",
       " 9.01624e-5   0.00112131   0.000317597  …  0.000512509  0.000797205\n",
       " 0.000487316  6.49864e-5   0.000593549     0.000792211  0.000175598\n",
       " 0.000176191  0.000853436  0.00057695      0.000208152  0.000799694\n",
       " 0.00031822   0.000372987  4.34462e-5      0.000583339  0.000397271\n",
       " 0.000131781  0.000157274  0.000616354     4.75441e-5   0.000768761"
      ]
     },
     "execution_count": 79,
     "metadata": {},
     "output_type": "execute_result"
    }
   ],
   "source": [
    "res = load(\"ErrorAnalysis.jld\")\n",
    "results = res[\"results\"]\n",
    "\n",
    "#Dimension 1 -> Fit, Sym, Flat\n",
    "#Dimension 2 -> Run number, varying parameter values. See DataGeneration script\n",
    "#Dimension 3 -> Computations of the same pair of clusterings.\n",
    "\n",
    "# Remove Columns with all negatives\n",
    "fitNoNegCols = results[1, collect(Bool, 1 .- vec(sum(y -> y<0, results[1, :, :], dims=2) .== 100)), :]\n",
    "symNoNegCols = results[2, collect(Bool, 1 .- vec(sum(y -> y<0, results[2, :, :], dims=2) .== 100)), :]\n",
    "flatNoNegCols = results[3, collect(Bool, 1 .- vec(sum(y -> y<0, results[3, :, :], dims=2) .== 100)), :]\n",
    "            \n",
    "#Calculate Absolute Errors\n",
    "fitae = abs.(fitNoNegCols .- mean(fitNoNegCols, dims=2))\n",
    "symae = abs.(symNoNegCols .- mean(symNoNegCols, dims=2))\n",
    "flatae = abs.(flatNoNegCols .- mean(flatNoNegCols, dims=2))"
   ]
  },
  {
   "cell_type": "markdown",
   "id": "fac28c52",
   "metadata": {},
   "source": [
    "## Maximum Absolute Error"
   ]
  },
  {
   "cell_type": "code",
   "execution_count": 80,
   "id": "baa0aaea",
   "metadata": {},
   "outputs": [
    {
     "name": "stdout",
     "output_type": "stream",
     "text": [
      "Fit Max Absolute Error: 0.01969712861722592\n",
      "Sym Max Absolute Error: 0.018762679522152326\n",
      "Flat Max Absolute Error: 0.002433261435505013\n"
     ]
    }
   ],
   "source": [
    "# Mean over computations of same clusterings, take the absolute value.\n",
    "maxAbsoluteErrorFit = maximum(fitae)\n",
    "maxAbsoluteErrorSym = maximum(symae)\n",
    "maxAbsoluteErrorFlat = maximum(flatae)\n",
    "\n",
    "println(\"Fit Max Absolute Error: \", maxAbsoluteErrorFit)\n",
    "println(\"Sym Max Absolute Error: \", maxAbsoluteErrorSym)\n",
    "println(\"Flat Max Absolute Error: \", maxAbsoluteErrorFlat)"
   ]
  },
  {
   "cell_type": "markdown",
   "id": "70cda0ed",
   "metadata": {},
   "source": [
    "## % MAE < 0.01"
   ]
  },
  {
   "cell_type": "code",
   "execution_count": 81,
   "id": "156dccaa",
   "metadata": {},
   "outputs": [
    {
     "name": "stdout",
     "output_type": "stream",
     "text": [
      "The proportion of Fit computations with absolute error less than 0.01: 0.9975603864734299\n",
      "The proportion of Sym computations with absolute error less than 0.01: 0.995112540192926\n",
      "The proportion of Flat computations with absolute error less than 0.01: 1.0\n"
     ]
    }
   ],
   "source": [
    "percentileFit = sum(y -> y < 0.01, fitae)/ (size(fitae, 1) * 100)\n",
    "percentileSym = sum(y -> y < 0.01, symae)/ (size(symae, 1) * 100)\n",
    "percentileFlat = sum(y -> y < 0.01, flatae)/ (size(flatae, 1) * 100)\n",
    "\n",
    "println(\"The proportion of Fit computations with absolute error less than 0.01: \", percentileFit)\n",
    "println(\"The proportion of Sym computations with absolute error less than 0.01: \", percentileSym)\n",
    "println(\"The proportion of Flat computations with absolute error less than 0.01: \", percentileFlat)"
   ]
  }
 ],
 "metadata": {
  "kernelspec": {
   "display_name": "Julia 1.9.2",
   "language": "julia",
   "name": "julia-1.9"
  },
  "language_info": {
   "file_extension": ".jl",
   "mimetype": "application/julia",
   "name": "julia",
   "version": "1.9.2"
  }
 },
 "nbformat": 4,
 "nbformat_minor": 5
}
